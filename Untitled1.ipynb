{
 "cells": [
  {
   "cell_type": "markdown",
   "metadata": {},
   "source": [
    "# User Input"
   ]
  },
  {
   "cell_type": "code",
   "execution_count": 1,
   "metadata": {},
   "outputs": [],
   "source": [
    "def user_choice():\n",
    "    \n",
    "    choice ='WRONG'\n",
    "    within_range = False\n",
    "    \n",
    "    while choice.isdigit() == False or within_range == False:\n",
    "        \n",
    "    \n",
    "    \n",
    "        choice = input(\"Please enter a number (0-10): \")\n",
    "        \n",
    "        if choice.isdigit() == False:\n",
    "            print(\"Sorry that is not a digit!\")\n",
    "            \n",
    "        if choice.isdigit() == True:\n",
    "            if int(choice) in range(0,10):\n",
    "                within_range = True\n",
    "            else:\n",
    "                within_range = False\n",
    "        \n",
    "    \n",
    "    return int(choice)"
   ]
  },
  {
   "cell_type": "code",
   "execution_count": 2,
   "metadata": {},
   "outputs": [],
   "source": [
    "game_list = [0,1,2]"
   ]
  },
  {
   "cell_type": "code",
   "execution_count": null,
   "metadata": {},
   "outputs": [],
   "source": [
    "def display_game(game_list):\n",
    "    print(\"Here is the current list\")\n",
    "    print(game_list)"
   ]
  },
  {
   "cell_type": "code",
   "execution_count": null,
   "metadata": {},
   "outputs": [],
   "source": [
    "display_game(game_list)"
   ]
  }
 ],
 "metadata": {
  "kernelspec": {
   "display_name": "Python 3",
   "language": "python",
   "name": "python3"
  },
  "language_info": {
   "codemirror_mode": {
    "name": "ipython",
    "version": 3
   },
   "file_extension": ".py",
   "mimetype": "text/x-python",
   "name": "python",
   "nbconvert_exporter": "python",
   "pygments_lexer": "ipython3",
   "version": "3.7.4"
  }
 },
 "nbformat": 4,
 "nbformat_minor": 2
}
